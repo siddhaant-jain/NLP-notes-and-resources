{
 "cells": [
  {
   "cell_type": "code",
   "execution_count": 1,
   "id": "1ce71e4d",
   "metadata": {},
   "outputs": [],
   "source": [
    "import spacy"
   ]
  },
  {
   "cell_type": "code",
   "execution_count": 2,
   "id": "97f5d6d3",
   "metadata": {},
   "outputs": [],
   "source": [
    "nlp = spacy.blank(\"en\")"
   ]
  },
  {
   "cell_type": "code",
   "execution_count": 3,
   "id": "70520cf8",
   "metadata": {},
   "outputs": [
    {
     "data": {
      "text/plain": [
       "[]"
      ]
     },
     "execution_count": 3,
     "metadata": {},
     "output_type": "execute_result"
    }
   ],
   "source": [
    "nlp.pipe_names #initially it is empty, since in above cell we created a blank pipeline"
   ]
  },
  {
   "cell_type": "code",
   "execution_count": 4,
   "id": "e85192fc",
   "metadata": {},
   "outputs": [],
   "source": [
    "#we can use some pre-trained pipelines also like;\n",
    "pipe = \"en_core_web_sm\" #en is for english and sm is for small, we need to download it first\n",
    "nlp_pipe = spacy.load(pipe)"
   ]
  },
  {
   "cell_type": "code",
   "execution_count": 5,
   "id": "db10a0f1",
   "metadata": {},
   "outputs": [
    {
     "data": {
      "text/plain": [
       "['tok2vec', 'tagger', 'parser', 'attribute_ruler', 'lemmatizer', 'ner']"
      ]
     },
     "execution_count": 5,
     "metadata": {},
     "output_type": "execute_result"
    }
   ],
   "source": [
    "nlp_pipe.pipe_names"
   ]
  },
  {
   "cell_type": "code",
   "execution_count": 6,
   "id": "6e1731da",
   "metadata": {},
   "outputs": [
    {
     "data": {
      "text/plain": [
       "[('tok2vec', <spacy.pipeline.tok2vec.Tok2Vec at 0x17dcf4bdfa0>),\n",
       " ('tagger', <spacy.pipeline.tagger.Tagger at 0x17dcf4bde80>),\n",
       " ('parser', <spacy.pipeline.dep_parser.DependencyParser at 0x17dcf36f890>),\n",
       " ('attribute_ruler',\n",
       "  <spacy.pipeline.attributeruler.AttributeRuler at 0x17dcf203b40>),\n",
       " ('lemmatizer', <spacy.lang.en.lemmatizer.EnglishLemmatizer at 0x17dcf2073c0>),\n",
       " ('ner', <spacy.pipeline.ner.EntityRecognizer at 0x17dcf36f900>)]"
      ]
     },
     "execution_count": 6,
     "metadata": {},
     "output_type": "execute_result"
    }
   ],
   "source": [
    "nlp_pipe.pipeline"
   ]
  },
  {
   "cell_type": "code",
   "execution_count": 7,
   "id": "0e94d73c",
   "metadata": {},
   "outputs": [
    {
     "name": "stdout",
     "output_type": "stream",
     "text": [
      "Tesla  |  PROPN  |  Tesla\n",
      "Inc.  |  PROPN  |  Inc.\n",
      "is  |  AUX  |  be\n",
      "going  |  VERB  |  go\n",
      "to  |  PART  |  to\n",
      "aquire  |  VERB  |  aquire\n",
      "twitter  |  NOUN  |  twitter\n",
      "for  |  ADP  |  for\n",
      "$  |  SYM  |  $\n",
      "45  |  NUM  |  45\n",
      "billion  |  NUM  |  billion\n"
     ]
    }
   ],
   "source": [
    "string = \"Tesla Inc. is going to aquire twitter for $45 billion\"\n",
    "\n",
    "for token in nlp_pipe(string):\n",
    "    print(token , \" | \", token.pos_, \" | \", token.lemma_) #pos tell part of speech (noun, verb etc), lemmma gives base word"
   ]
  },
  {
   "cell_type": "code",
   "execution_count": 8,
   "id": "bc8b923e",
   "metadata": {},
   "outputs": [
    {
     "name": "stdout",
     "output_type": "stream",
     "text": [
      "Tesla Inc.  |  ORG  |  Companies, agencies, institutions, etc.\n",
      "$45 billion  |  MONEY  |  Monetary values, including unit\n"
     ]
    }
   ],
   "source": [
    "#named entity recognition (to identify different entities)\n",
    "for ent in nlp_pipe(string).ents:\n",
    "    print(ent.text , \" | \", ent.label_, \" | \", spacy.explain(ent.label_))"
   ]
  },
  {
   "cell_type": "code",
   "execution_count": 9,
   "id": "3e1ceb7e",
   "metadata": {},
   "outputs": [
    {
     "data": {
      "text/html": [
       "<span class=\"tex2jax_ignore\"><div class=\"entities\" style=\"line-height: 2.5; direction: ltr\">\n",
       "<mark class=\"entity\" style=\"background: #7aecec; padding: 0.45em 0.6em; margin: 0 0.25em; line-height: 1; border-radius: 0.35em;\">\n",
       "    Tesla Inc.\n",
       "    <span style=\"font-size: 0.8em; font-weight: bold; line-height: 1; border-radius: 0.35em; vertical-align: middle; margin-left: 0.5rem\">ORG</span>\n",
       "</mark>\n",
       " is going to aquire twitter for \n",
       "<mark class=\"entity\" style=\"background: #e4e7d2; padding: 0.45em 0.6em; margin: 0 0.25em; line-height: 1; border-radius: 0.35em;\">\n",
       "    $45 billion\n",
       "    <span style=\"font-size: 0.8em; font-weight: bold; line-height: 1; border-radius: 0.35em; vertical-align: middle; margin-left: 0.5rem\">MONEY</span>\n",
       "</mark>\n",
       "</div></span>"
      ],
      "text/plain": [
       "<IPython.core.display.HTML object>"
      ]
     },
     "metadata": {},
     "output_type": "display_data"
    }
   ],
   "source": [
    "from spacy import displacy\n",
    "\n",
    "displacy.render(nlp_pipe(string), style=\"ent\")"
   ]
  },
  {
   "cell_type": "code",
   "execution_count": 10,
   "id": "c5fade9f",
   "metadata": {},
   "outputs": [
    {
     "data": {
      "text/plain": [
       "['tok2vec', 'tagger', 'parser', 'attribute_ruler', 'lemmatizer', 'ner']"
      ]
     },
     "execution_count": 10,
     "metadata": {},
     "output_type": "execute_result"
    }
   ],
   "source": [
    "#only take on of the elements of a pre-trained pipe, let's say we only need ner\n",
    "pipe = \"en_core_web_sm\"\n",
    "nlp_pipe = spacy.load(pipe)\n",
    "nlp_pipe.pipe_names"
   ]
  },
  {
   "cell_type": "code",
   "execution_count": 11,
   "id": "87ead4e6",
   "metadata": {},
   "outputs": [
    {
     "data": {
      "text/plain": [
       "[]"
      ]
     },
     "execution_count": 11,
     "metadata": {},
     "output_type": "execute_result"
    }
   ],
   "source": [
    "nlp.pipe_names"
   ]
  },
  {
   "cell_type": "code",
   "execution_count": 13,
   "id": "ae96b94d",
   "metadata": {},
   "outputs": [
    {
     "data": {
      "text/plain": [
       "<spacy.pipeline.ner.EntityRecognizer at 0x17dd27a2ba0>"
      ]
     },
     "execution_count": 13,
     "metadata": {},
     "output_type": "execute_result"
    }
   ],
   "source": [
    "nlp.add_pipe(\"ner\", source=nlp_pipe)"
   ]
  },
  {
   "cell_type": "code",
   "execution_count": 14,
   "id": "3ace95ca",
   "metadata": {},
   "outputs": [
    {
     "data": {
      "text/plain": [
       "['ner']"
      ]
     },
     "execution_count": 14,
     "metadata": {},
     "output_type": "execute_result"
    }
   ],
   "source": [
    "nlp.pipe_names"
   ]
  },
  {
   "cell_type": "code",
   "execution_count": null,
   "id": "647e7ea5",
   "metadata": {},
   "outputs": [],
   "source": []
  }
 ],
 "metadata": {
  "kernelspec": {
   "display_name": "Python 3 (ipykernel)",
   "language": "python",
   "name": "python3"
  },
  "language_info": {
   "codemirror_mode": {
    "name": "ipython",
    "version": 3
   },
   "file_extension": ".py",
   "mimetype": "text/x-python",
   "name": "python",
   "nbconvert_exporter": "python",
   "pygments_lexer": "ipython3",
   "version": "3.8.11"
  }
 },
 "nbformat": 4,
 "nbformat_minor": 5
}
