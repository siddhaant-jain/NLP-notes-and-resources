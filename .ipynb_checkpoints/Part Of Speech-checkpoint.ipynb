{
 "cells": [
  {
   "cell_type": "code",
   "execution_count": 1,
   "id": "44b9f800",
   "metadata": {},
   "outputs": [],
   "source": [
    "import spacy"
   ]
  },
  {
   "cell_type": "code",
   "execution_count": 2,
   "id": "67eb1d62",
   "metadata": {},
   "outputs": [
    {
     "name": "stdout",
     "output_type": "stream",
     "text": [
      "Elon  |  PROPN  |  proper noun\n",
      "flew  |  VERB  |  verb\n",
      "to  |  ADP  |  adposition\n",
      "mars  |  NOUN  |  noun\n",
      "yesterday  |  NOUN  |  noun\n",
      ".  |  PUNCT  |  punctuation\n",
      "He  |  PRON  |  pronoun\n",
      "carried  |  VERB  |  verb\n",
      "biryani  |  ADJ  |  adjective\n",
      "masala  |  NOUN  |  noun\n",
      "with  |  ADP  |  adposition\n",
      "him  |  PRON  |  pronoun\n"
     ]
    }
   ],
   "source": [
    "nlp = spacy.load(\"en_core_web_sm\")\n",
    "doc = nlp(\"Elon flew to mars yesterday. He carried biryani masala with him\")\n",
    "\n",
    "for token in doc:\n",
    "    print(token,\" | \", token.pos_, \" | \", spacy.explain(token.pos_))"
   ]
  },
  {
   "cell_type": "markdown",
   "id": "25bfe066",
   "metadata": {},
   "source": [
    "check https://v2.spacy.io/api/annotation for the complete list of pos categories in spacy.\n",
    "\n",
    "https://en.wikipedia.org/wiki/Preposition_and_postposition\n",
    "\n",
    "https://en.wikipedia.org/wiki/Part_of_speech"
   ]
  },
  {
   "cell_type": "code",
   "execution_count": 3,
   "id": "f61777b7",
   "metadata": {},
   "outputs": [
    {
     "name": "stdout",
     "output_type": "stream",
     "text": [
      "Wow  |  INTJ  |  interjection\n",
      "!  |  PUNCT  |  punctuation\n",
      "Dr.  |  PROPN  |  proper noun\n",
      "Strange  |  PROPN  |  proper noun\n",
      "made  |  VERB  |  verb\n",
      "265  |  NUM  |  numeral\n",
      "million  |  NUM  |  numeral\n",
      "$  |  NUM  |  numeral\n",
      "on  |  ADP  |  adposition\n",
      "the  |  DET  |  determiner\n",
      "very  |  ADV  |  adverb\n",
      "first  |  ADJ  |  adjective\n",
      "day  |  NOUN  |  noun\n"
     ]
    }
   ],
   "source": [
    "doc = nlp(\"Wow! Dr. Strange made 265 million $ on the very first day\")\n",
    "\n",
    "for token in doc:\n",
    "    print(token,\" | \", token.pos_, \" | \", spacy.explain(token.pos_))"
   ]
  },
  {
   "cell_type": "code",
   "execution_count": 4,
   "id": "59668c86",
   "metadata": {},
   "outputs": [
    {
     "name": "stdout",
     "output_type": "stream",
     "text": [
      "Wow  |  INTJ  |  interjection  |  UH  |  interjection\n",
      "!  |  PUNCT  |  punctuation  |  .  |  punctuation mark, sentence closer\n",
      "Dr.  |  PROPN  |  proper noun  |  NNP  |  noun, proper singular\n",
      "Strange  |  PROPN  |  proper noun  |  NNP  |  noun, proper singular\n",
      "made  |  VERB  |  verb  |  VBD  |  verb, past tense\n",
      "265  |  NUM  |  numeral  |  CD  |  cardinal number\n",
      "million  |  NUM  |  numeral  |  CD  |  cardinal number\n",
      "$  |  NUM  |  numeral  |  CD  |  cardinal number\n",
      "on  |  ADP  |  adposition  |  IN  |  conjunction, subordinating or preposition\n",
      "the  |  DET  |  determiner  |  DT  |  determiner\n",
      "very  |  ADV  |  adverb  |  RB  |  adverb\n",
      "first  |  ADJ  |  adjective  |  JJ  |  adjective (English), other noun-modifier (Chinese)\n",
      "day  |  NOUN  |  noun  |  NN  |  noun, singular or mass\n"
     ]
    }
   ],
   "source": [
    "#tags\n",
    "doc = nlp(\"Wow! Dr. Strange made 265 million $ on the very first day\")\n",
    "\n",
    "for token in doc:\n",
    "    print(token,\" | \", token.pos_, \" | \", spacy.explain(token.pos_), \" | \", token.tag_, \" | \", spacy.explain(token.tag_))"
   ]
  },
  {
   "cell_type": "code",
   "execution_count": 5,
   "id": "e239b3a6",
   "metadata": {},
   "outputs": [
    {
     "name": "stdout",
     "output_type": "stream",
     "text": [
      "quits | VBZ | verb, 3rd person singular present\n"
     ]
    }
   ],
   "source": [
    "#spacy can figure past vs present tense\n",
    "doc = nlp(\"He quits the job\")\n",
    "\n",
    "print(doc[1].text, \"|\", doc[1].tag_, \"|\", spacy.explain(doc[1].tag_))"
   ]
  },
  {
   "cell_type": "code",
   "execution_count": 6,
   "id": "51396ae2",
   "metadata": {},
   "outputs": [
    {
     "name": "stdout",
     "output_type": "stream",
     "text": [
      "quit | VBD | verb, past tense\n"
     ]
    }
   ],
   "source": [
    "doc = nlp(\"he quit the job\")\n",
    "\n",
    "print(doc[1].text, \"|\", doc[1].tag_, \"|\", spacy.explain(doc[1].tag_))"
   ]
  },
  {
   "cell_type": "code",
   "execution_count": 7,
   "id": "ab82179a",
   "metadata": {},
   "outputs": [
    {
     "data": {
      "text/plain": [
       "[Microsoft,\n",
       " Corp.,\n",
       " today,\n",
       " announced,\n",
       " the,\n",
       " following,\n",
       " results,\n",
       " for,\n",
       " the,\n",
       " quarter]"
      ]
     },
     "execution_count": 7,
     "metadata": {},
     "output_type": "execute_result"
    }
   ],
   "source": [
    "#Removing all SPACE, PUNCT and X token from text\n",
    "\n",
    "earnings_text=\"\"\"Microsoft Corp. today announced the following results for the quarter ended December 31, 2021, as compared to the corresponding period of last fiscal year:\n",
    "\n",
    "·         Revenue was $51.7 billion and increased 20%\n",
    "·         Operating income was $22.2 billion and increased 24%\n",
    "·         Net income was $18.8 billion and increased 21%\n",
    "·         Diluted earnings per share was $2.48 and increased 22%\n",
    "“Digital technology is the most malleable resource at the world’s disposal to overcome constraints and reimagine everyday work and life,” said Satya Nadella, chairman and chief executive officer of Microsoft. “As tech as a percentage of global GDP continues to increase, we are innovating and investing across diverse and growing markets, with a common underlying technology stack and an operating model that reinforces a common strategy, culture, and sense of purpose.”\n",
    "“Solid commercial execution, represented by strong bookings growth driven by long-term Azure commitments, increased Microsoft Cloud revenue to $22.1 billion, up 32% year over year” said Amy Hood, executive vice president and chief financial officer of Microsoft.\"\"\"\n",
    "\n",
    "doc = nlp(earnings_text)\n",
    "\n",
    "filtered_tokens = []\n",
    "\n",
    "for token in doc:\n",
    "    if token.pos_ not in [\"SPACE\", \"PUNCT\", \"X\"]:\n",
    "        filtered_tokens.append(token)\n",
    "        \n",
    "filtered_tokens[:10]\n"
   ]
  },
  {
   "cell_type": "code",
   "execution_count": 9,
   "id": "1936a55a",
   "metadata": {},
   "outputs": [
    {
     "name": "stdout",
     "output_type": "stream",
     "text": [
      "PROPN | 14\n",
      "NOUN | 45\n",
      "VERB | 24\n",
      "DET | 9\n",
      "ADP | 17\n",
      "NUM | 16\n",
      "PUNCT | 27\n",
      "SCONJ | 1\n",
      "ADJ | 20\n",
      "SPACE | 10\n",
      "AUX | 6\n",
      "SYM | 5\n",
      "CCONJ | 12\n",
      "ADV | 2\n",
      "PART | 3\n",
      "PRON | 2\n"
     ]
    }
   ],
   "source": [
    "count = doc.count_by(spacy.attrs.POS)\n",
    "for k,v in count.items():\n",
    "    print(doc.vocab[k].text, \"|\",v)"
   ]
  },
  {
   "cell_type": "markdown",
   "id": "97ebd7ff",
   "metadata": {},
   "source": [
    "## Assignment"
   ]
  },
  {
   "cell_type": "code",
   "execution_count": 17,
   "id": "49094beb",
   "metadata": {},
   "outputs": [],
   "source": [
    "news_story_file_path = 'news_story.txt'\n",
    "# newStoryList = []\n",
    "with open(news_story_file_path, 'r') as nsf:\n",
    "    newStoryList = [line for line in nsf.readlines()]\n",
    "        \n",
    "newStory = ''.join(newStoryList)"
   ]
  },
  {
   "cell_type": "code",
   "execution_count": 18,
   "id": "df9f5e3f",
   "metadata": {},
   "outputs": [
    {
     "data": {
      "text/plain": [
       "'Inflation rose again in April, continuing a climb that has pushed consumers to the brink and is threatening the economic expansion, the Bureau of Labor Statistics reported Wednesday.\\n\\nThe consumer price index, a broad-based measure of prices for goods and services, increased 8.3% from a year ago, higher than the Dow Jones estimate for an 8.1% gain. That represented a slight ease from March’s peak but was still close to the highest level since the summer of 1982.\\n\\nRemoving volatile food and energy prices, so-called core CPI still rose 6.2%, against expectations for a 6% gain, clouding hopes that inflation had peaked in March.\\n\\nThe month-over-month gains also were higher than expectations — 0.3% on headline CPI versus the 0.2% estimate and a 0.6% increase for core, against the outlook for a 0.4% gain.\\n\\nThe price gains also meant that workers continued to lose ground. Real wages adjusted for inflation decreased 0.1% on the month despite a nominal increase of 0.3% in average hourly earnings. Over the past year, real earnings have dropped 2.6% even though average hourly earnings are up 5.5%.\\n\\nInflation has been the single biggest threat to a recovery that began early in the Covid pandemic and saw the economy in 2021 stage its biggest single-year growth level since 1984. Rising prices at the pump and in grocery stores have been one problem, but inflation has spread beyond those two areas into housing, auto sales and a host of other areas.\\n\\nFederal Reserve officials have responded to the problem with two interest rate hikes so far this year and pledges of more until inflation comes down to the central bank’s 2% goal. However, Wednesday’s data shows that the Fed has a big job ahead.\\n\\nCredits: cnbc.com'"
      ]
     },
     "execution_count": 18,
     "metadata": {},
     "output_type": "execute_result"
    }
   ],
   "source": [
    "newStory"
   ]
  },
  {
   "cell_type": "code",
   "execution_count": 19,
   "id": "d1deaa44",
   "metadata": {},
   "outputs": [],
   "source": [
    "#Extract NOUN and NUM tokens\n",
    "nlp = spacy.load(\"en_core_web_sm\")\n",
    "\n",
    "doc = nlp(newStory)"
   ]
  },
  {
   "cell_type": "code",
   "execution_count": 21,
   "id": "5a741977",
   "metadata": {},
   "outputs": [
    {
     "name": "stdout",
     "output_type": "stream",
     "text": [
      "Inflation  |  NOUN  |  noun\n",
      "climb  |  NOUN  |  noun\n",
      "consumers  |  NOUN  |  noun\n",
      "brink  |  NOUN  |  noun\n",
      "expansion  |  NOUN  |  noun\n",
      "consumer  |  NOUN  |  noun\n",
      "price  |  NOUN  |  noun\n",
      "index  |  NOUN  |  noun\n",
      "measure  |  NOUN  |  noun\n",
      "prices  |  NOUN  |  noun\n",
      "goods  |  NOUN  |  noun\n",
      "services  |  NOUN  |  noun\n",
      "8.3  |  NUM  |  numeral\n",
      "%  |  NOUN  |  noun\n",
      "year  |  NOUN  |  noun\n",
      "estimate  |  NOUN  |  noun\n",
      "8.1  |  NUM  |  numeral\n",
      "%  |  NOUN  |  noun\n",
      "gain  |  NOUN  |  noun\n",
      "ease  |  NOUN  |  noun\n",
      "peak  |  NOUN  |  noun\n",
      "level  |  NOUN  |  noun\n",
      "summer  |  NOUN  |  noun\n",
      "1982  |  NUM  |  numeral\n",
      "food  |  NOUN  |  noun\n",
      "energy  |  NOUN  |  noun\n",
      "prices  |  NOUN  |  noun\n",
      "core  |  NOUN  |  noun\n",
      "6.2  |  NUM  |  numeral\n",
      "%  |  NOUN  |  noun\n",
      "expectations  |  NOUN  |  noun\n",
      "6  |  NUM  |  numeral\n",
      "%  |  NOUN  |  noun\n",
      "gain  |  NOUN  |  noun\n",
      "hopes  |  NOUN  |  noun\n",
      "inflation  |  NOUN  |  noun\n",
      "month  |  NOUN  |  noun\n",
      "month  |  NOUN  |  noun\n",
      "gains  |  NOUN  |  noun\n",
      "expectations  |  NOUN  |  noun\n",
      "0.3  |  NUM  |  numeral\n",
      "%  |  NOUN  |  noun\n",
      "headline  |  NOUN  |  noun\n",
      "0.2  |  NUM  |  numeral\n",
      "%  |  NOUN  |  noun\n",
      "estimate  |  NOUN  |  noun\n",
      "0.6  |  NUM  |  numeral\n",
      "%  |  NOUN  |  noun\n",
      "increase  |  NOUN  |  noun\n",
      "core  |  NOUN  |  noun\n",
      "outlook  |  NOUN  |  noun\n",
      "0.4  |  NUM  |  numeral\n",
      "%  |  NOUN  |  noun\n",
      "gain  |  NOUN  |  noun\n",
      "price  |  NOUN  |  noun\n",
      "gains  |  NOUN  |  noun\n",
      "workers  |  NOUN  |  noun\n",
      "ground  |  NOUN  |  noun\n",
      "wages  |  NOUN  |  noun\n",
      "inflation  |  NOUN  |  noun\n",
      "0.1  |  NUM  |  numeral\n",
      "%  |  NOUN  |  noun\n",
      "month  |  NOUN  |  noun\n",
      "increase  |  NOUN  |  noun\n",
      "0.3  |  NUM  |  numeral\n",
      "%  |  NOUN  |  noun\n",
      "earnings  |  NOUN  |  noun\n",
      "year  |  NOUN  |  noun\n",
      "earnings  |  NOUN  |  noun\n",
      "2.6  |  NUM  |  numeral\n",
      "%  |  NOUN  |  noun\n",
      "earnings  |  NOUN  |  noun\n",
      "5.5  |  NUM  |  numeral\n",
      "%  |  NOUN  |  noun\n",
      "Inflation  |  NOUN  |  noun\n",
      "threat  |  NOUN  |  noun\n",
      "recovery  |  NOUN  |  noun\n",
      "economy  |  NOUN  |  noun\n",
      "2021  |  NUM  |  numeral\n",
      "year  |  NOUN  |  noun\n",
      "growth  |  NOUN  |  noun\n",
      "level  |  NOUN  |  noun\n",
      "1984  |  NUM  |  numeral\n",
      "prices  |  NOUN  |  noun\n",
      "pump  |  NOUN  |  noun\n",
      "grocery  |  NOUN  |  noun\n",
      "stores  |  NOUN  |  noun\n",
      "one  |  NUM  |  numeral\n",
      "problem  |  NOUN  |  noun\n",
      "inflation  |  NOUN  |  noun\n",
      "two  |  NUM  |  numeral\n",
      "areas  |  NOUN  |  noun\n",
      "housing  |  NOUN  |  noun\n",
      "auto  |  NOUN  |  noun\n",
      "sales  |  NOUN  |  noun\n",
      "host  |  NOUN  |  noun\n",
      "areas  |  NOUN  |  noun\n",
      "officials  |  NOUN  |  noun\n",
      "problem  |  NOUN  |  noun\n",
      "two  |  NUM  |  numeral\n",
      "interest  |  NOUN  |  noun\n",
      "rate  |  NOUN  |  noun\n",
      "year  |  NOUN  |  noun\n",
      "pledges  |  NOUN  |  noun\n",
      "inflation  |  NOUN  |  noun\n",
      "2  |  NUM  |  numeral\n",
      "%  |  NOUN  |  noun\n",
      "goal  |  NOUN  |  noun\n",
      "data  |  NOUN  |  noun\n",
      "job  |  NOUN  |  noun\n",
      "Credits  |  NOUN  |  noun\n"
     ]
    }
   ],
   "source": [
    "for token in doc:\n",
    "    if token.pos_ == 'NOUN' or token.pos_ == 'NUM':\n",
    "        print(token , \" | \", token.pos_, \" | \", spacy.explain(token.pos_))"
   ]
  },
  {
   "cell_type": "code",
   "execution_count": 22,
   "id": "05c4e495",
   "metadata": {},
   "outputs": [
    {
     "name": "stdout",
     "output_type": "stream",
     "text": [
      "NOUN | 92\n",
      "VERB | 29\n",
      "ADV | 15\n",
      "ADP | 39\n",
      "PROPN | 18\n",
      "PUNCT | 32\n",
      "DET | 34\n",
      "PRON | 4\n",
      "AUX | 13\n",
      "CCONJ | 10\n",
      "ADJ | 23\n",
      "SPACE | 7\n",
      "NUM | 19\n",
      "PART | 4\n",
      "SCONJ | 8\n",
      "X | 1\n"
     ]
    }
   ],
   "source": [
    "#Print a count of all POS tags\n",
    "count = doc.count_by(spacy.attrs.POS)\n",
    "for k,v in count.items():\n",
    "    print(doc.vocab[k].text, \"|\",v)"
   ]
  },
  {
   "cell_type": "code",
   "execution_count": null,
   "id": "8a4cd7f7",
   "metadata": {},
   "outputs": [],
   "source": []
  }
 ],
 "metadata": {
  "kernelspec": {
   "display_name": "Python 3 (ipykernel)",
   "language": "python",
   "name": "python3"
  },
  "language_info": {
   "codemirror_mode": {
    "name": "ipython",
    "version": 3
   },
   "file_extension": ".py",
   "mimetype": "text/x-python",
   "name": "python",
   "nbconvert_exporter": "python",
   "pygments_lexer": "ipython3",
   "version": "3.8.11"
  }
 },
 "nbformat": 4,
 "nbformat_minor": 5
}
